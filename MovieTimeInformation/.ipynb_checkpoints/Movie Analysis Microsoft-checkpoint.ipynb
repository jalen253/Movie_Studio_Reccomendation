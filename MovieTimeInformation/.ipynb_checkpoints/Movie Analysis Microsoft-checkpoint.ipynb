{
 "cells": [
  {
   "cell_type": "markdown",
   "id": "ca0e37d2",
   "metadata": {},
   "source": [
    "# TITLE : INITIAL DATA EXPLORATION"
   ]
  },
  {
   "cell_type": "markdown",
   "id": "d0c0ffea",
   "metadata": {},
   "source": [
    "Overview: This project analyzes the needs of Micosoft and the expansion of generating revenue with the creation of a movie studio. Descriptive analysis of movie studios across the world via gross income, movie rating, and budget would allow Microsoft to output its own studio with these factors."
   ]
  },
  {
   "cell_type": "markdown",
   "id": "6def1956",
   "metadata": {},
   "source": [
    "Business Problem: Microsoft wants to create a new reveue stream for the company in a field in which they have not explored in. There are numerous competitors in this field in which Microsoft may not be aware of. I describe patterns of income, movie ratings, and budgets from some of the competitors to establish a baseline in which would ease the creation of a new movie studio."
   ]
  },
  {
   "cell_type": "markdown",
   "id": "085643dd",
   "metadata": {},
   "source": [
    "Data Understanding: The data utilized below comes from a private data sector in from the year 2019 across all sectors of movie studios. The data files will provide names of the studios, along with budgets and ratings of those movies in return the gross revenue is returned as well"
   ]
  },
  {
   "cell_type": "code",
   "execution_count": null,
   "id": "d948ce41",
   "metadata": {},
   "outputs": [],
   "source": []
  },
  {
   "cell_type": "code",
   "execution_count": 1,
   "id": "0f0b58c3",
   "metadata": {},
   "outputs": [],
   "source": [
    "import pandas as pd\n",
    "import matplotlib.pyplot as plt\n",
    "import numpy as np\n",
    "import seaborn as sns"
   ]
  },
  {
   "cell_type": "code",
   "execution_count": 2,
   "id": "00f9a463",
   "metadata": {
    "scrolled": true
   },
   "outputs": [
    {
     "name": "stdout",
     "output_type": "stream",
     "text": [
      "Movie Analysis Microsoft.ipynb\n",
      "Untitled.ipynb\n",
      "zippedData\n"
     ]
    }
   ],
   "source": [
    "!ls"
   ]
  },
  {
   "cell_type": "code",
   "execution_count": 3,
   "id": "3d578a34",
   "metadata": {},
   "outputs": [
    {
     "name": "stdout",
     "output_type": "stream",
     "text": [
      "bom.movie_gross.csv.gz\n",
      "imdb.name.basics.csv.gz\n",
      "imdb.title.akas.csv.gz\n",
      "imdb.title.basics.csv.gz\n",
      "imdb.title.crew.csv.gz\n",
      "imdb.title.principals.csv.gz\n",
      "imdb.title.ratings.csv.gz\n",
      "rt.movie_info.tsv.gz\n",
      "rt.reviews.tsv.gz\n",
      "tmdb.movies.csv.gz\n",
      "tn.movie_budgets.csv.gz\n",
      "untitled\n"
     ]
    }
   ],
   "source": [
    "!ls zippedData/"
   ]
  },
  {
   "cell_type": "code",
   "execution_count": 4,
   "id": "20c21be5",
   "metadata": {},
   "outputs": [
    {
     "ename": "NameError",
     "evalue": "name 'votes' is not defined",
     "output_type": "error",
     "traceback": [
      "\u001b[1;31m---------------------------------------------------------------------------\u001b[0m",
      "\u001b[1;31mNameError\u001b[0m                                 Traceback (most recent call last)",
      "\u001b[1;32m<ipython-input-4-3952178cb662>\u001b[0m in \u001b[0;36m<module>\u001b[1;34m\u001b[0m\n\u001b[0;32m      1\u001b[0m \u001b[0mbasics\u001b[0m \u001b[1;33m=\u001b[0m \u001b[0mpd\u001b[0m\u001b[1;33m.\u001b[0m\u001b[0mread_csv\u001b[0m\u001b[1;33m(\u001b[0m\u001b[1;34m'zippedData/tmdb.movies.csv.gz'\u001b[0m\u001b[1;33m)\u001b[0m\u001b[1;33m\u001b[0m\u001b[1;33m\u001b[0m\u001b[0m\n\u001b[0;32m      2\u001b[0m \u001b[0mbasics\u001b[0m\u001b[1;33m[\u001b[0m\u001b[1;34m'vote_average'\u001b[0m\u001b[1;33m]\u001b[0m\u001b[1;33m<\u001b[0m\u001b[1;36m6.3\u001b[0m\u001b[1;33m\u001b[0m\u001b[1;33m\u001b[0m\u001b[0m\n\u001b[1;32m----> 3\u001b[1;33m \u001b[0mvotes\u001b[0m\u001b[1;33m\u001b[0m\u001b[1;33m\u001b[0m\u001b[0m\n\u001b[0m",
      "\u001b[1;31mNameError\u001b[0m: name 'votes' is not defined"
     ]
    }
   ],
   "source": [
    "basics = pd.read_csv('zippedData/tmdb.movies.csv.gz')  \n",
    "basics['vote_average']<6.3\n",
    "votes"
   ]
  },
  {
   "cell_type": "code",
   "execution_count": null,
   "id": "cca0470c",
   "metadata": {},
   "outputs": [],
   "source": [
    "team = pd.read_csv('zippedData/tmdb.movies.csv.gz')  \n",
    "votes = team.loc[team['title'].isin(domestic_revenue)].head(15)\n",
    "votes"
   ]
  },
  {
   "cell_type": "code",
   "execution_count": null,
   "id": "fc323d3f",
   "metadata": {
    "scrolled": true
   },
   "outputs": [],
   "source": [
    "basics['vote_average'].mean()\n",
    "\n",
    "    #production_price.loc[production_price ['movie'].isin(movie_title)]"
   ]
  },
  {
   "cell_type": "code",
   "execution_count": null,
   "id": "56b0d240",
   "metadata": {},
   "outputs": [],
   "source": [
    "ratings = pd.read_csv('zippedData/imdb.title.ratings.csv.gz')\n",
    "ratings"
   ]
  },
  {
   "cell_type": "code",
   "execution_count": null,
   "id": "53d0fdc3",
   "metadata": {},
   "outputs": [],
   "source": [
    "ratings.plots.scatter"
   ]
  },
  {
   "cell_type": "code",
   "execution_count": null,
   "id": "8896f167",
   "metadata": {},
   "outputs": [],
   "source": [
    "avg = ratings.groupby([ratings['averagerating']>6.2])\n",
    "print(avg)"
   ]
  },
  {
   "cell_type": "code",
   "execution_count": null,
   "id": "ce9082f3",
   "metadata": {},
   "outputs": [],
   "source": [
    "##Starting first we want to have the ratings of movies who are 6.3 or above\n",
    "#7.0 being the minimum baseline for user enjoyment \n",
    "#acquire the sum of each rating. as \n",
    "ratings['averagerating'].mean() #AVERAGE RATING"
   ]
  },
  {
   "cell_type": "code",
   "execution_count": null,
   "id": "daff2c4b",
   "metadata": {},
   "outputs": [],
   "source": [
    "#Starting first we want to have the ratings of movies who are 7.0 or above\n",
    "#7.0 being the minimum baseline for user enjoyment \n",
    "#acquire the sum of each rating. as \n",
    "ratings['averagerating'].mean()\n",
    "\n",
    "\n",
    "\n",
    "\n",
    "   "
   ]
  },
  {
   "cell_type": "code",
   "execution_count": null,
   "id": "7f28fe95",
   "metadata": {},
   "outputs": [],
   "source": [
    "number = ratings.groupby('numvotes')\n",
    "for num,ammount in number:\n",
    "    print(num)\n",
    "    print(ammount)"
   ]
  },
  {
   "cell_type": "code",
   "execution_count": null,
   "id": "45ef8603",
   "metadata": {},
   "outputs": [],
   "source": [
    "revenue = pd.read_csv('zippedData/bom.movie_gross.csv.gz')ascending_gross['domestic_gross'].mean("
   ]
  },
  {
   "cell_type": "code",
   "execution_count": null,
   "id": "3be723f2",
   "metadata": {},
   "outputs": [],
   "source": [
    "#Wanted to display the top grossing movies of all time\n",
    "\n",
    "high_domestic_gross = revenue.sort_values('domestic_gross', ascending = False).head(15)\n",
    "domestic_gross =high_domestic_gross['domestic_gross'].head(15) #My Plot Point\n",
    "\n",
    "domestic_gross\n",
    "\n",
    "\n",
    "#StarWarsThe Force Awaken, Black Panther,Avengers: Infiity War, Jurassi World, Marvels The Avengers, Star Wars The Last Jedi \n",
    "#Incredibles 2 Rogue ONe: A StarWars Story,Beauty and the Beast, Finding Dory, Avengers: Age of Ultron,\n",
    "#The Dark Knight Riss Th Hunger Games: Catching Fire Jurrassic World Fallen Kingdom Toy story 3"
   ]
  },
  {
   "cell_type": "code",
   "execution_count": null,
   "id": "6707cc84",
   "metadata": {},
   "outputs": [],
   "source": [
    "domestic_revenue = high_domestic_gross['title'] #variable to locate movie titles\n",
    "domestic_revenue"
   ]
  },
  {
   "cell_type": "code",
   "execution_count": null,
   "id": "6f8aec39",
   "metadata": {},
   "outputs": [],
   "source": [
    "revenue"
   ]
  },
  {
   "cell_type": "code",
   "execution_count": null,
   "id": "c37ff237",
   "metadata": {},
   "outputs": [],
   "source": [
    "budget.loc[budget.movie == 'Twilight']"
   ]
  },
  {
   "cell_type": "code",
   "execution_count": null,
   "id": "7d3e6e47",
   "metadata": {},
   "outputs": [],
   "source": []
  },
  {
   "cell_type": "code",
   "execution_count": null,
   "id": "fc20ad32",
   "metadata": {},
   "outputs": [],
   "source": [
    "revenue['studio', ['BV']]\n",
    "\n"
   ]
  },
  {
   "cell_type": "code",
   "execution_count": null,
   "id": "d57a5585",
   "metadata": {},
   "outputs": [],
   "source": [
    "budget = pd.read_csv('zippedData/tn.movie_budgets.csv.gz')"
   ]
  },
  {
   "cell_type": "code",
   "execution_count": null,
   "id": "df244bba",
   "metadata": {},
   "outputs": [],
   "source": [
    "budget.loc[budget.movie == ' Beauty and the Beast']\n",
    " #The only file with production budget"
   ]
  },
  {
   "cell_type": "code",
   "execution_count": null,
   "id": "0a7e4742",
   "metadata": {},
   "outputs": [],
   "source": [
    "productionbudge = production_price.loc[production_price ['movie'].isin(domestic_revenue)].head(15) \n",
    "productionbudge#second point in my production table"
   ]
  },
  {
   "cell_type": "code",
   "execution_count": null,
   "id": "eba71dee",
   "metadata": {},
   "outputs": [],
   "source": [
    "the_movies = ['StarWarsThe Force Awaken' , 'Black Panther' ,' Avengers: Infiity War', 'Jurassi World' , 'Marvels The Avengers' , 'Star Wars The Last Jedi' , \n",
    "'Incredibles 2' ,  'Rogue One: A StarWars Story', 'Beauty and the Beast' , 'Finding Dory' , 'Avengers: Age of Ultron' ,\n",
    "'The Dark Knight Rises' ,  'The Hunger Games: Catching Fire', 'Jurrassic World Fallen Kingdom' , 'Toy story 3']\n",
    "production_budget1 = [245000000, 200000000 ,300000000 , 215000000, 300000000 , 200000000, 200000000 ,330600000 , 25000000, 200000000,330600000, 275000000, 130000000, 170000000, 200000000]\n",
    "sns.set()\n",
    "plt.xlabel('Top Grossing Movies Ever', size = 'large' )\n",
    "plt.ylabel('Production Cost, MIL')\n",
    "plt.title('Lights, Camera, Action')\n",
    "plt.xlim(0,25)\n",
    "cl = ['blue', 'orange', 'yellow', 'black', 'pink', 'purple', 'green', 'grey', 'brown']\n",
    "plt.xticks(color = 'purple', size = 'large')\n",
    "plt.bar(the_movies, production_budget1, width=1.0, color = cl)\n",
    "plt.rcParams['figure.figsize'] = [15,15]\n",
    "plt.xticks(rotation = 90)\n",
    "plt.show()"
   ]
  },
  {
   "cell_type": "code",
   "execution_count": null,
   "id": "17c3c768",
   "metadata": {},
   "outputs": [],
   "source": [
    "the_movies = ['StarWarsThe Force Awaken' , 'Black Panther' ,' Avengers: Infiity War', 'Jurassi World' , 'Marvels The Avengers' , 'Star Wars The Last Jedi' , \n",
    "'Incredibles 2' ,  'Rogue One: A StarWars Story', 'Beauty and the Beast' , 'Finding Dory' , 'Avengers: Age of Ultron' ,\n",
    "'The Dark Knight Rises' ,  'The Hunger Games: Catching Fire', 'Jurrassic World Fallen Kingdom' , 'Toy story 3']\n",
    "domestic_gross\n",
    "sns.set()\n",
    "plt.xlabel('Top Grossing Movies Ever', size = 'large' )\n",
    "plt.ylabel('Gross Revenue, MIL')\n",
    "plt.title('MONEY MONEY MONEY')\n",
    "plt.xlim(0,25)\n",
    "cl = ['purple', 'yellow', 'green', 'pink', 'grey', 'blue', 'red', 'orange', 'black']\n",
    "plt.xticks(color = 'purple', size = 'large')\n",
    "plt.bar(the_movies, domestic_gross, width=1.0, color = cl)\n",
    "plt.rcParams['figure.figsize'] = [15,15]\n",
    "plt.xticks(rotation = 90)\n",
    "plt.show()"
   ]
  },
  {
   "cell_type": "code",
   "execution_count": null,
   "id": "178f23e7",
   "metadata": {},
   "outputs": [],
   "source": []
  }
 ],
 "metadata": {
  "kernelspec": {
   "display_name": "Python 3",
   "language": "python",
   "name": "python3"
  },
  "language_info": {
   "codemirror_mode": {
    "name": "ipython",
    "version": 3
   },
   "file_extension": ".py",
   "mimetype": "text/x-python",
   "name": "python",
   "nbconvert_exporter": "python",
   "pygments_lexer": "ipython3",
   "version": "3.8.8"
  }
 },
 "nbformat": 4,
 "nbformat_minor": 5
}
